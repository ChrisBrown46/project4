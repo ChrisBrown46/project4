{
 "cells": [
  {
   "cell_type": "code",
   "execution_count": 1,
   "metadata": {},
   "outputs": [],
   "source": [
    "from sklearn.neighbors import KNeighborsClassifier\n",
    "import pandas as pd\n",
    "from sklearn.neighbors import NearestNeighbors\n",
    "from sklearn.model_selection import train_test_split\n",
    "from sklearn.preprocessing import StandardScaler\n",
    "\n",
    "from sklearn.feature_selection import SelectKBest, f_classif\n",
    "from sklearn.metrics import precision_score, recall_score, f1_score, accuracy_score\n",
    "from sklearn.model_selection import GridSearchCV\n",
    "\n"
   ]
  },
  {
   "cell_type": "code",
   "execution_count": 2,
   "metadata": {},
   "outputs": [],
   "source": [
    "# read in the breast cancer data table\n",
    "df = pd.read_csv('data.csv')\n",
    "# create a map to change the labels and changed them\n",
    "diagnosis_map = {'M':1, 'B':0}\n",
    "df['diagnosis'] = df['diagnosis'].map(diagnosis_map)\n"
   ]
  },
  {
   "cell_type": "code",
   "execution_count": 3,
   "metadata": {},
   "outputs": [],
   "source": [
    "# seperate the inputs from the labels\n",
    "X = df.drop(['diagnosis', 'id', 'Unnamed: 32'], axis=1)\n",
    "y = df['diagnosis']\n",
    "\n",
    "input_labels = X.columns"
   ]
  },
  {
   "cell_type": "markdown",
   "metadata": {},
   "source": [
    "## Attribute Selection\n",
    "Use the ANOVA filter-based feature selection method to get the top 10 attributes from the 32 available"
   ]
  },
  {
   "cell_type": "code",
   "execution_count": 4,
   "metadata": {},
   "outputs": [
    {
     "name": "stdout",
     "output_type": "stream",
     "text": [
      "Index(['radius_mean', 'perimeter_mean', 'area_mean', 'concavity_mean',\n",
      "       'concave points_mean', 'radius_worst', 'perimeter_worst', 'area_worst',\n",
      "       'concavity_worst', 'concave points_worst'],\n",
      "      dtype='object')\n"
     ]
    }
   ],
   "source": [
    "best = SelectKBest(score_func=f_classif, k=10)\n",
    "X_new = best.fit_transform(X, y)\n",
    "# print the top 'k' attributes selected in no particular order..\n",
    "print(input_labels[best.get_support()])"
   ]
  },
  {
   "cell_type": "markdown",
   "metadata": {},
   "source": [
    "## Train test Split\n",
    "Split the data into a training and testing set\n"
   ]
  },
  {
   "cell_type": "code",
   "execution_count": 5,
   "metadata": {},
   "outputs": [],
   "source": [
    "# X_new = StandardScaler().fit_transform(X_new) # scaling doesnt seem to help\n",
    "X_train, X_test, y_train, y_test = train_test_split(X_new, y, test_size=0.3, random_state=0)\n"
   ]
  },
  {
   "cell_type": "markdown",
   "metadata": {},
   "source": [
    "## Finiding k\n",
    "Do a grid search for to find the best value of k for the model"
   ]
  },
  {
   "cell_type": "code",
   "execution_count": 6,
   "metadata": {},
   "outputs": [
    {
     "name": "stdout",
     "output_type": "stream",
     "text": [
      "Best Params =  {'n_neighbors': 11, 'weights': 'uniform'}\n",
      "CV : Accuracy Score =  0.9271356783919598\n"
     ]
    },
    {
     "name": "stderr",
     "output_type": "stream",
     "text": [
      "/Users/colbywight/anaconda3/envs/MachineLearning/lib/python3.6/site-packages/sklearn/model_selection/_search.py:841: DeprecationWarning: The default of the `iid` parameter will change from True to False in version 0.22 and will be removed in 0.24. This will change numeric results when test-set sizes are unequal.\n",
      "  DeprecationWarning)\n"
     ]
    }
   ],
   "source": [
    "knn = KNeighborsClassifier(weights='uniform', algorithm='auto')\n",
    "param_grid = {\n",
    "    'n_neighbors': [1, 3, 5, 7, 9, 11, 13, 15, 17],\n",
    "    'weights': ['uniform', 'distance']\n",
    "}\n",
    "CV_knn = GridSearchCV(estimator=knn, param_grid=param_grid, cv=10)\n",
    "CV_knn.fit(X_train, y_train)\n",
    "print('Best Params = ',CV_knn.best_params_)\n",
    "print('CV : Accuracy Score = ',CV_knn.best_score_ )\n"
   ]
  },
  {
   "cell_type": "markdown",
   "metadata": {},
   "source": [
    "## Final Test Accuracy\n",
    "Now train all the training data into a final model and test it on the test set. Print the model evaluation metrics to see how well the model preformed."
   ]
  },
  {
   "cell_type": "code",
   "execution_count": 7,
   "metadata": {},
   "outputs": [],
   "source": [
    "knn = KNeighborsClassifier(n_neighbors=11, weights='uniform', algorithm='auto')\n",
    "knn.fit(X_train, y_train)\n",
    "y_pred = knn.predict(X_test)"
   ]
  },
  {
   "cell_type": "code",
   "execution_count": 8,
   "metadata": {},
   "outputs": [
    {
     "name": "stdout",
     "output_type": "stream",
     "text": [
      "0.9649122807017544\n",
      "precision: 0.9365079365079365\n",
      "recall: 0.9672131147540983\n",
      "f1 score: 0.9516129032258064\n"
     ]
    }
   ],
   "source": [
    "# get the metrices\n",
    "acc = accuracy_score(y_pred, y_test)\n",
    "preci = precision_score(y_pred, y_test)\n",
    "recall = recall_score(y_pred, y_test)\n",
    "f1 = f1_score(y_pred, y_test)\n",
    "\n",
    "print(acc)\n",
    "print('precision:',preci)\n",
    "print('recall:', recall)\n",
    "print('f1 score:', f1)"
   ]
  },
  {
   "cell_type": "markdown",
   "metadata": {},
   "source": [
    "## Comparison\n",
    "Compare to a model that uses all the attributes "
   ]
  },
  {
   "cell_type": "code",
   "execution_count": 9,
   "metadata": {},
   "outputs": [
    {
     "name": "stdout",
     "output_type": "stream",
     "text": [
      "Best Params =  {'n_neighbors': 7, 'weights': 'uniform'}\n",
      "CV : Accuracy Score =  0.9271356783919598\n"
     ]
    }
   ],
   "source": [
    "# compare to a model fit on all the attributes \n",
    "X_train, X_test, y_train, y_test = train_test_split(X, y, test_size=0.3, random_state=0)\n",
    "knn = KNeighborsClassifier(weights='uniform', algorithm='auto')\n",
    "param_grid = {\n",
    "    'n_neighbors': [1, 3, 5, 7, 9, 11, 13, 15, 17],\n",
    "    'weights': ['uniform', 'distance']\n",
    "}\n",
    "CV_knn = GridSearchCV(estimator=knn, param_grid=param_grid, cv=10)\n",
    "CV_knn.fit(X_train, y_train)\n",
    "print('Best Params = ',CV_knn.best_params_)\n",
    "print('CV : Accuracy Score = ',CV_knn.best_score_ )"
   ]
  },
  {
   "cell_type": "code",
   "execution_count": 10,
   "metadata": {},
   "outputs": [
    {
     "name": "stdout",
     "output_type": "stream",
     "text": [
      "0.9532163742690059\n",
      "precision: 0.9365079365079365\n",
      "recall: 0.9365079365079365\n",
      "f1 score: 0.9365079365079365\n"
     ]
    }
   ],
   "source": [
    "knn = KNeighborsClassifier(n_neighbors=7, weights='uniform', algorithm='auto')\n",
    "knn.fit(X_train, y_train)\n",
    "y_pred = knn.predict(X_test)\n",
    "# get the metrices\n",
    "acc = accuracy_score(y_pred, y_test)\n",
    "preci = precision_score(y_pred, y_test)\n",
    "recall = recall_score(y_pred, y_test)\n",
    "f1 = f1_score(y_pred, y_test)\n",
    "\n",
    "print(acc)\n",
    "print('precision:',preci)\n",
    "print('recall:', recall)\n",
    "print('f1 score:', f1)"
   ]
  },
  {
   "cell_type": "code",
   "execution_count": 68,
   "metadata": {},
   "outputs": [],
   "source": [
    "# attributes = ['diagnosis', 'radius_mean', 'perimeter_mean', 'area_mean', 'smoothness_mean', 'compactness_mean', 'concavity_mean', 'concave points_mean', 'symmetry_mean', 'fractal_dimension_mean']\n",
    "# df_subset = df[attributes]\n",
    "\n",
    "# # model = KNeighborsClassifier(n_neighbors=5, weights='uniform', algorithm='auto')\n",
    "\n",
    "# #Split the data into a training set and a test set.\n",
    "# # get the inputs and scale them\n",
    "# X = df_subset.drop('diagnosis', axis=1)\n",
    "# X = StandardScaler().fit_transform(X)\n",
    "# y = df_subset[['diagnosis']]\n",
    "# X_train, X_test, y_train, y_test = train_test_split(X, y, test_size=0.3, random_state=0)\n",
    "\n",
    "# knn = KNeighborsClassifier(n_neighbors=10, weights='uniform', algorithm='auto')\n",
    "\n",
    "# knn.fit(X_train, y_train)\n",
    "\n",
    "# # we get 91.2 percent accuracy without scaling. 91.8 with scaling. with k=5\n",
    "# # we get 96.5% accuracy with k=10 using the top ten selected features \n",
    "# knn.score(X_test, y_test)\n"
   ]
  }
 ],
 "metadata": {
  "kernelspec": {
   "display_name": "Python 3",
   "language": "python",
   "name": "python3"
  },
  "language_info": {
   "codemirror_mode": {
    "name": "ipython",
    "version": 3
   },
   "file_extension": ".py",
   "mimetype": "text/x-python",
   "name": "python",
   "nbconvert_exporter": "python",
   "pygments_lexer": "ipython3",
   "version": "3.6.7"
  }
 },
 "nbformat": 4,
 "nbformat_minor": 2
}
